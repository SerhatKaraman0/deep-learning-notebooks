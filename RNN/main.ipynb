{
 "cells": [
  {
   "cell_type": "markdown",
   "id": "aa2834f9",
   "metadata": {},
   "source": [
    "# Recurrent Neural Network (RNN)\n",
    "\n",
    "- Good for time series problems and NLP tasks.\n",
    "- Has memory\n",
    "- Current data depend on the previous data \n",
    "\n",
    "## Details of RNN\n",
    "\n",
    "Recurrent Neural Networks (RNNs) are a class of neural networks designed to recognize patterns in sequences of data, such as text, genomes, handwriting, or time series data. Unlike traditional feedforward neural networks, RNNs have connections that form directed cycles, allowing information to persist.\n",
    "\n",
    "### Key Characteristics:\n",
    "- **Sequential Processing:** RNNs process input sequences one element at a time, maintaining a hidden state that captures information about previous elements.\n",
    "- **Shared Parameters:** The same weights are used at each time step, making RNNs efficient for sequence modeling.\n",
    "- **Backpropagation Through Time (BPTT):** Training is performed using a variant of backpropagation that unfolds the network through time.\n",
    "\n",
    "### Limitations:\n",
    "- **Vanishing/Exploding Gradients:** Standard RNNs can struggle to learn long-term dependencies due to gradient issues.\n",
    "- **Short-term Memory:** They are better at capturing short-term dependencies unless enhanced with architectures like LSTM or GRU.\n",
    "\n",
    "### Applications:\n",
    "- Language modeling and text generation\n",
    "- Speech recognition\n",
    "- Machine translation\n",
    "- Time series prediction\n",
    "\n"
   ]
  },
  {
   "cell_type": "markdown",
   "id": "a6af9c47",
   "metadata": {},
   "source": []
  }
 ],
 "metadata": {
  "language_info": {
   "name": "python"
  }
 },
 "nbformat": 4,
 "nbformat_minor": 5
}
